{
 "cells": [
  {
   "cell_type": "code",
   "execution_count": 3,
   "id": "59f04537-cd18-4461-8dc4-9c10bb6e417c",
   "metadata": {},
   "outputs": [
    {
     "name": "stdin",
     "output_type": "stream",
     "text": [
      "Enter the minimum length:  8\n",
      "Do you want to have number (y/n)?  y\n",
      "Do you want to have special characters (y/n)?  y\n"
     ]
    },
    {
     "name": "stdout",
     "output_type": "stream",
     "text": [
      "the generated password is: %T=pFIec;4\n"
     ]
    }
   ],
   "source": [
    "import random\n",
    "import string\n",
    "\n",
    "def generate_password(min_length, number=True, special_characters=True):\n",
    "    letters = string.ascii_letters\n",
    "    digits = string.digits\n",
    "    special = string.punctuation\n",
    "\n",
    "    characters = letters\n",
    "    if number:\n",
    "        characters += digits\n",
    "    if special_characters:\n",
    "        characters += special\n",
    "\n",
    "    pwd = \"\"\n",
    "    meets_criteria = False\n",
    "    has_number = False\n",
    "    has_spacial = False\n",
    "\n",
    "    while not meets_criteria or len(pwd) < min_length:\n",
    "        new_char = random.choice(characters)\n",
    "        pwd += new_char\n",
    "\n",
    "        if new_char in digits:\n",
    "            has_number = True\n",
    "        elif new_char in special:\n",
    "            has_special = True\n",
    "\n",
    "        meets_criteria = True\n",
    "        if number:\n",
    "            meets_criteria = has_number\n",
    "        if special_characters:\n",
    "            meets_criteria = meets_criteria and has_special\n",
    "\n",
    "    return pwd\n",
    "\n",
    "min_length = int(input(\"Enter the minimum length: \"))\n",
    "has_number = input(\"Do you want to have number (y/n)? \").lower() == \"y\"\n",
    "has_special = input(\"Do you want to have special characters (y/n)? \").lower() == \"y\"    \n",
    "pwd = generate_password(min_length, has_number, has_special)\n",
    "print(\"the generated password is:\", pwd)\n",
    "        "
   ]
  },
  {
   "cell_type": "code",
   "execution_count": null,
   "id": "c78dffcd-782e-4f2f-83fa-1e777e2db07d",
   "metadata": {},
   "outputs": [],
   "source": [
    "|"
   ]
  }
 ],
 "metadata": {
  "kernelspec": {
   "display_name": "Python 3 (ipykernel)",
   "language": "python",
   "name": "python3"
  },
  "language_info": {
   "codemirror_mode": {
    "name": "ipython",
    "version": 3
   },
   "file_extension": ".py",
   "mimetype": "text/x-python",
   "name": "python",
   "nbconvert_exporter": "python",
   "pygments_lexer": "ipython3",
   "version": "3.12.0"
  }
 },
 "nbformat": 4,
 "nbformat_minor": 5
}
